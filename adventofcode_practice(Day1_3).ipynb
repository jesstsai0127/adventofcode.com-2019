{
  "nbformat": 4,
  "nbformat_minor": 0,
  "metadata": {
    "colab": {
      "name": "adventofcode_practice(Day1-3).ipynb",
      "provenance": [],
      "collapsed_sections": [],
      "include_colab_link": true
    },
    "kernelspec": {
      "name": "python3",
      "display_name": "Python 3"
    }
  },
  "cells": [
    {
      "cell_type": "markdown",
      "metadata": {
        "id": "view-in-github",
        "colab_type": "text"
      },
      "source": [
        "<a href=\"https://colab.research.google.com/github/jesstsai0127/adventofcode.com-2019/blob/master/adventofcode_practice(Day1_3).ipynb\" target=\"_parent\"><img src=\"https://colab.research.google.com/assets/colab-badge.svg\" alt=\"Open In Colab\"/></a>"
      ]
    },
    {
      "cell_type": "markdown",
      "metadata": {
        "id": "kfERGMQ3ma8T",
        "colab_type": "text"
      },
      "source": [
        "Issues from https://adventofcode.com/\n",
        "Try to practice those issues by myself."
      ]
    },
    {
      "cell_type": "markdown",
      "metadata": {
        "id": "1LZCS20umr3i",
        "colab_type": "text"
      },
      "source": [
        "Day 1 PartI:\n",
        "Fuel required to launch a given module is based on its mass. Specifically, to find the fuel required for a module, take its mass, divide by three, round down, and subtract 2.\n",
        "\n",
        "For example:\n",
        "\n",
        "For a mass of 12, divide by 3 and round down to get 4, then subtract 2 to get 2.\n",
        "For a mass of 14, dividing by 3 and rounding down still yields 4, so the fuel required is also 2.\n",
        "For a mass of 1969, the fuel required is 654.\n",
        "For a mass of 100756, the fuel required is 33583."
      ]
    },
    {
      "cell_type": "code",
      "metadata": {
        "id": "rW1F6yw5l4Lz",
        "colab_type": "code",
        "outputId": "262dd5d9-3b53-47f0-ff29-e5efe991513d",
        "colab": {
          "base_uri": "https://localhost:8080/",
          "height": 34
        }
      },
      "source": [
        "star = [66690,86239,75191,140364,95979,106923,95229,123571,84764,89444,98107,89062,109369,146067,124760,76900,139198,111441,74046,84920,54397,143807,121654,93863,73909,104121,58485,119084,126227,142078,79820,132617,108430,98032,107434,127307,105619,57741,53468,63301,137970,136780,80897,133205,79159,89124,94477,56714,143704,122097,117335,108246,75507,101459,101162,146197,121884,66217,57074,142903,140951,64883,124556,67382,142407,121778,57933,94599,87426,143758,64043,65678,90137,61090,77315,102383,146607,139290,85394,149787,125611,106405,91561,135739,54845,68782,111175,61011,125658,70751,85607,75458,75419,124311,66022,122784,129018,54901,73788,108240]\n",
        "fuel = 0\n",
        "for point in star:\n",
        "  fuel += (int(point/3)-2)\n",
        "\n",
        "print(fuel)"
      ],
      "execution_count": 0,
      "outputs": [
        {
          "output_type": "stream",
          "text": [
            "3331849\n"
          ],
          "name": "stdout"
        }
      ]
    },
    {
      "cell_type": "markdown",
      "metadata": {
        "id": "PU1v_nqUNW6E",
        "colab_type": "text"
      },
      "source": [
        "Day 1 PartII:\n",
        "So, for each module mass, calculate its fuel and add it to the total. Then, treat the fuel amount you just calculated as the input mass and repeat the process, continuing until a fuel requirement is zero or negative. For example:\n",
        "\n",
        "A module of mass 14 requires 2 fuel. This fuel requires no further fuel (2 divided by 3 and rounded down is 0, which would call for a negative fuel), so the total fuel required is still just 2.\n",
        "At first, a module of mass 1969 requires 654 fuel. Then, this fuel requires 216 more fuel (654 / 3 - 2). 216 then requires 70 more fuel, which requires 21 fuel, which requires 5 fuel, which requires no further fuel. So, the total fuel required for a module of mass 1969 is 654 + 216 + 70 + 21 + 5 = 966.\n",
        "The fuel required by a module of mass 100756 and its fuel is: 33583 + 11192 + 3728 + 1240 + 411 + 135 + 43 + 12 + 2 = 50346."
      ]
    },
    {
      "cell_type": "code",
      "metadata": {
        "id": "gCMUMzjsOQ7K",
        "colab_type": "code",
        "outputId": "4c30e279-738e-4721-b3eb-e44a470b1147",
        "colab": {
          "base_uri": "https://localhost:8080/",
          "height": 34
        }
      },
      "source": [
        "def fuel(mass):\n",
        "  result = mass\n",
        "  return ((int(result/3))-2)\n",
        "\n",
        "puzzle_input = [66690,86239,75191,140364,95979,106923,95229,123571,84764,89444,98107,89062,109369,146067,124760,76900,139198,111441,74046,84920,54397,143807,121654,93863,73909,104121,58485,119084,126227,142078,79820,132617,108430,98032,107434,127307,105619,57741,53468,63301,137970,136780,80897,133205,79159,89124,94477,56714,143704,122097,117335,108246,75507,101459,101162,146197,121884,66217,57074,142903,140951,64883,124556,67382,142407,121778,57933,94599,87426,143758,64043,65678,90137,61090,77315,102383,146607,139290,85394,149787,125611,106405,91561,135739,54845,68782,111175,61011,125658,70751,85607,75458,75419,124311,66022,122784,129018,54901,73788,108240]\n",
        "puzzle_output = [0]*len(puzzle_input)\n",
        "sum_fuel = 0 \n",
        "for pos in range(len(puzzle_output)):\n",
        "  ori_mass = puzzle_input[pos]\n",
        "  need_fuel = 0\n",
        "  flag = 1\n",
        "  while (flag == 1):\n",
        "    if ori_mass > 0:\n",
        "      ori_mass = fuel(ori_mass)\n",
        "      if ori_mass > 0:\n",
        "        need_fuel += ori_mass\n",
        "      else:\n",
        "        break\n",
        "    else:\n",
        "      flag = 0\n",
        "      break\n",
        "  sum_fuel += need_fuel\n",
        "print(sum_fuel)"
      ],
      "execution_count": 0,
      "outputs": [
        {
          "output_type": "stream",
          "text": [
            "4994898\n"
          ],
          "name": "stdout"
        }
      ]
    },
    {
      "cell_type": "markdown",
      "metadata": {
        "id": "BsPnkjMPAAME",
        "colab_type": "text"
      },
      "source": [
        "Day 2:\n",
        "Puzzle input: 1,0,0,3,1,1,2,3,1,3,4,3,1,5,0,3,2,1,10,19,1,19,5,23,2,23,9,27,1,5,27,31,1,9,31,35,1,35,10,39,2,13,39,43,1,43,9,47,1,47,9,51,1,6,51,55,1,13,55,59,1,59,13,63,1,13,63,67,1,6,67,71,1,71,13,75,2,10,75,79,1,13,79,83,1,83,10,87,2,9,87,91,1,6,91,95,1,9,95,99,2,99,10,103,1,103,5,107,2,6,107,111,1,111,6,115,1,9,115,119,1,9,119,123,2,10,123,127,1,127,5,131,2,6,131,135,1,135,5,139,1,9,139,143,2,143,13,147,1,9,147,151,1,151,2,155,1,9,155,0,99,2,0,14,0\n",
        "\n",
        "Opcode 1 adds together numbers read from two positions and stores the result in a third position. The three integers immediately after the opcode tell you these three positions - the first two indicate the positions from which you should read the input values, and the third indicates the position at which the output should be stored.\n",
        "\n",
        "For example, if your Intcode computer encounters 1,10,20,30, it should read the values at positions 10 and 20, add those values, and then overwrite the value at position 30 with their sum.\n",
        "\n",
        "Opcode 2 works exactly like opcode 1, except it multiplies the two inputs instead of adding them. Again, the three integers after the opcode indicate where the inputs and outputs are, not their values.\n",
        "\n",
        "Once you're done processing an opcode, move to the next one by stepping forward 4 positions."
      ]
    },
    {
      "cell_type": "code",
      "metadata": {
        "id": "vvwLTiSSqbZZ",
        "colab_type": "code",
        "colab": {}
      },
      "source": [
        "def puzzle_process(puzzle_input):\n",
        "  puzzle = puzzle_input\n",
        "  for pos in range(0,len(puzzle),4):\n",
        "    if puzzle[pos] == 1:\n",
        "      puzzle[puzzle[pos+3]] = puzzle[puzzle[pos+1]] + puzzle[puzzle[pos+2]]\n",
        "    elif puzzle[pos]  == 2:\n",
        "      puzzle[puzzle[pos+3]] = puzzle[puzzle[pos+1]] * puzzle[puzzle[pos+2]]\n",
        "    elif puzzle[pos] == 99:\n",
        "      break\n",
        "    else:\n",
        "      print('error') # check exception\n",
        "  return puzzle"
      ],
      "execution_count": 0,
      "outputs": []
    },
    {
      "cell_type": "code",
      "metadata": {
        "id": "n1BM3x1fclXf",
        "colab_type": "code",
        "outputId": "105f7f68-0df0-4226-9475-0fd8bdc1b1b4",
        "colab": {
          "base_uri": "https://localhost:8080/",
          "height": 54
        }
      },
      "source": [
        "#p0 = [1,0,0,3,1,1,2,3,1,3,4,3,1,5,0,3,2,1,10,19,1,19,5,23,2,23,9,27,1,5,27,31,1,9,31,35,1,35,10,39,2,13,39,43,1,43,9,47,1,47,9,51,1,6,51,55,1,13,55,59,1,59,13,63,1,13,63,67,1,6,67,71,1,71,13,75,2,10,75,79,1,13,79,83,1,83,10,87,2,9,87,91,1,6,91,95,1,9,95,99,2,99,10,103,1,103,5,107,2,6,107,111,1,111,6,115,1,9,115,119,1,9,119,123,2,10,123,127,1,127,5,131,2,6,131,135,1,135,5,139,1,9,139,143,2,143,13,147,1,9,147,151,1,151,2,155,1,9,155,0,99,2,0,14,0]\n",
        "#p0 = [1,12,2,3,1,1,2,3,1,3,4,3,1,5,0,3,2,1,10,19,1,19,5,23,2,23,9,27,1,5,27,31,1,9,31,35,1,35,10,39,2,13,39,43,1,43,9,47,1,47,9,51,1,6,51,55,1,13,55,59,1,59,13,63,1,13,63,67,1,6,67,71,1,71,13,75,2,10,75,79,1,13,79,83,1,83,10,87,2,9,87,91,1,6,91,95,1,9,95,99,2,99,10,103,1,103,5,107,2,6,107,111,1,111,6,115,1,9,115,119,1,9,119,123,2,10,123,127,1,127,5,131,2,6,131,135,1,135,5,139,1,9,139,143,2,143,13,147,1,9,147,151,1,151,2,155,1,9,155,0,99,2,0,14,0]\n",
        "p0 = [1,12,2,3,1,1,2,3,1,3,4,3,1,5,0,3,2,1,10,19,1,19,5,23,2,23,9,27,1,5,27,31,1,9,31,35,1,35,10,39,2,13,39,43,1,43,9,47,1,47,9,51,1,6,51,55,1,13,55,59,1,59,13,63,1,13,63,67,1,6,67,71,1,71,13,75,2,10,75,79,1,13,79,83,1,83,10,87,2,9,87,91,1,6,91,95,1,9,95,99,2,99,10,103,1,103,5,107,2,6,107,111,1,111,6,115,1,9,115,119,1,9,119,123,2,10,123,127,1,127,5,131,2,6,131,135,1,135,5,139,1,9,139,143,2,143,13,147,1,9,147,151,1,151,2,155,1,9,155,0,99,2,0,14,0]\n",
        "#p1 = [''] * len(p0)\n",
        "#for pos in range(len(p0)):\n",
        "#  p1[pos] = p0[pos]\n",
        "p1=list(p0)\n",
        "puzzle_process(p1)\n",
        "print(p1)"
      ],
      "execution_count": 0,
      "outputs": [
        {
          "output_type": "stream",
          "text": [
            "[3101878, 12, 2, 2, 1, 1, 2, 3, 1, 3, 4, 3, 1, 5, 0, 3, 2, 1, 10, 48, 1, 19, 5, 49, 2, 23, 9, 147, 1, 5, 27, 148, 1, 9, 31, 151, 1, 35, 10, 155, 2, 13, 39, 775, 1, 43, 9, 778, 1, 47, 9, 781, 1, 6, 51, 783, 1, 13, 55, 788, 1, 59, 13, 793, 1, 13, 63, 798, 1, 6, 67, 800, 1, 71, 13, 805, 2, 10, 75, 3220, 1, 13, 79, 3225, 1, 83, 10, 3229, 2, 9, 87, 9687, 1, 6, 91, 9689, 1, 9, 95, 9692, 2, 99, 10, 38768, 1, 103, 5, 38769, 2, 6, 107, 77538, 1, 111, 6, 77540, 1, 9, 115, 77543, 1, 9, 119, 77546, 2, 10, 123, 310184, 1, 127, 5, 310185, 2, 6, 131, 620370, 1, 135, 5, 620371, 1, 9, 139, 620374, 2, 143, 13, 3101870, 1, 9, 147, 3101873, 1, 151, 2, 3101875, 1, 9, 155, 0, 99, 2, 0, 14, 0]\n"
          ],
          "name": "stdout"
        }
      ]
    },
    {
      "cell_type": "markdown",
      "metadata": {
        "id": "kDh9oBxHxgfj",
        "colab_type": "text"
      },
      "source": [
        "Day2 PartII:\n",
        "\"With terminology out of the way, we're ready to proceed. To complete the gravity assist, you need to determine what pair of inputs produces the output 19690720.\"\n",
        "\n",
        "Once the program has halted, its output is available at address 0, also just like before. Each time you try a pair of inputs, make sure you first reset the computer's memory to the values in the program (your puzzle input) - in other words, don't reuse memory from a previous attempt.\n",
        "\n",
        "Find the input noun and verb that cause the program to produce the output 19690720. **What is 100 * noun + verb?** (For example, if noun=12 and verb=2, the answer would be 1202.)\n"
      ]
    },
    {
      "cell_type": "code",
      "metadata": {
        "id": "xMn30QArvlWU",
        "colab_type": "code",
        "outputId": "0ba6c031-7427-42fd-8740-f4e8c452fe4c",
        "colab": {
          "base_uri": "https://localhost:8080/",
          "height": 34
        }
      },
      "source": [
        "def check_result(x,y,z):\n",
        "  p0 = [1,0,0,3,1,1,2,3,1,3,4,3,1,5,0,3,2,1,10,19,1,19,5,23,2,23,9,27,1,5,27,31,1,9,31,35,1,35,10,39,2,13,39,43,1,43,9,47,1,47,9,51,1,6,51,55,1,13,55,59,1,59,13,63,1,13,63,67,1,6,67,71,1,71,13,75,2,10,75,79,1,13,79,83,1,83,10,87,2,9,87,91,1,6,91,95,1,9,95,99,2,99,10,103,1,103,5,107,2,6,107,111,1,111,6,115,1,9,115,119,1,9,119,123,2,10,123,127,1,127,5,131,2,6,131,135,1,135,5,139,1,9,139,143,2,143,13,147,1,9,147,151,1,151,2,155,1,9,155,0,99,2,0,14,0]\n",
        "  p1 = list(p0)\n",
        "  p1[1] = x\n",
        "  p1[2] = y\n",
        "  puzzle_process(p1)\n",
        "  if p1[0] == z:\n",
        "    return x,y\n",
        "  else:\n",
        "    return -1,-1\n",
        "\n",
        "checkResult = 19690720\n",
        "flag = 1\n",
        "for x in range(100):\n",
        "  for y in range(100):\n",
        "    a,b = check_result(x,y,checkResult)\n",
        "    if a == -1:\n",
        "      pass\n",
        "    else:\n",
        "      c=a\n",
        "      d=b\n",
        "print(c*100+d)"
      ],
      "execution_count": 0,
      "outputs": [
        {
          "output_type": "stream",
          "text": [
            "8444\n"
          ],
          "name": "stdout"
        }
      ]
    },
    {
      "cell_type": "markdown",
      "metadata": {
        "id": "gB-36TC2AmtS",
        "colab_type": "text"
      },
      "source": [
        "Day3 PARTI:\n",
        "\n",
        "Crossed Wires\n",
        "\n",
        "puzzle input = \n",
        "R1005,U370,L335,D670,R236,D634,L914,U15,R292,D695,L345,D183,R655,U438,R203,U551,L540,U51,R834,D563,L882,D605,L832,U663,R899,D775,L740,U764,L810,U442,R379,D951,L821,D703,R526,D624,L100,D796,R375,U129,L957,D41,R361,D504,R358,D320,L392,D842,R509,D612,L92,U788,L361,D757,R428,U257,L663,U956,L748,U938,R588,D942,R819,D732,R562,D331,L164,U801,R872,U872,L909,U260,R899,D278,R822,U968,L937,D594,L786,D34,R102,D650,R920,D539,R925,U436,R347,U686,L596,D608,R730,U5,R462,U831,R277,U411,R730,D828,L169,D276,L669,U167,R55,D879,L329,U258,R585,D134,R977,D609,L126,U848,L601,U624,R577,D421,L880,D488,R505,U385,L103,D693,L110,D338,R809,D864,L80,U413,R412,D134,L519,D988,R83,U580,R593,U435,R843,D953,R11,D655,R569,D237,R987,U894,L445,U974,L746,U450,R99,U69,R84,U258,L248,D581,R215,U306,R480,U126,R275,D353,R493,D800,L386,D876,L957,D722,L967,D612,L716,D901,R394,U764,R274,D686,L746,D957,R747,U517,L575,D961,R842,D753,L345,D59,L215,U413,R610,D166,L646,U107,L926,D848,R445,U297,L376,U869,L345,D529,R620,D353,R682,D908,R378,D221,R64,D911,L245,D364,R123,D555,L928,U412,R771,D543,L97,D477,R500,D125,R578,U150,R291,D252,R948,D576,L838,D144,L289,D677,L307,U692,R802,D743,R57,U839,R896,D110,R34,D508,L595,U658,L769,U47,L292,U66,R217,D8,L835,D479,L71,D24,R429,U64,R305,D406,R23,U819,R478,D7,L561,D503,R349,U104,L749,D123,R548,D421,R336,D837,R464,D908,L94,U988,L137,D757,L42,U842,R260,D406,L31,U965,L178,U973,L29,U276,L887,U920,L133,U243,R537,U282,R194,D152,R693,D509,L771,D365,L319,D378,L61,D849,R379\n",
        "L998,U242,R333,U631,L507,U313,R286,U714,R709,U585,R393,D893,R404,D448,R882,U246,L190,U238,R672,D184,L275,D120,R352,D584,L626,U413,L288,D942,R770,D551,L926,D242,R568,U48,R108,D349,R750,D323,L529,D703,L672,U775,L700,D465,L528,D596,R990,U366,L747,D270,L723,D469,L548,D47,L873,D678,R782,D187,L397,U975,R967,D224,L295,D86,L159,U610,L767,U641,L885,D623,L160,D509,R517,D981,L376,D604,R251,D140,L938,D358,L984,U63,R513,D54,L718,U90,L343,D982,L575,D692,L508,D361,L297,D880,L46,D875,R40,D97,R819,U919,R319,U152,R161,U553,L388,D100,R481,U306,L201,U706,L173,D657,L632,D182,R477,D332,R678,D683,L983,D584,R941,U801,R485,D376,R218,D432,R780,D617,R560,D618,R466,U456,L952,D72,R339,U16,L543,U176,L423,D770,L714,U621,L850,U929,R132,D908,R993,U440,R539,U374,L945,D443,L326,D651,L269,U321,R925,D777,R431,U273,R811,D63,R683,D540,L3,D617,R359,U332,L736,D98,L859,D994,R131,U71,L156,D661,R879,D303,L581,U407,L166,U878,L831,D871,R953,D137,L903,U200,R34,D857,R448,D412,L311,D212,R527,D707,R641,D775,L987,D814,L38,D96,R647,U868,L98,U882,L838,D308,R840,U161,R83,U424,L420,U934,R353,D287,R559,D665,R695,D888,R859,U992,L283,D525,L449,U255,L889,D296,R72,D899,R316,D3,L308,D404,L356,D333,R645,U274,R336,U258,R599,U746,L142,U21,R301,D890,L290,D624,R565,U117,L927,U412,L687,U480,R674,U372,L382,D134,L372,D892,R307,U217,L20,D535,L876,D548,L19,U590,R906,D816,R465,U768,R882,U980,L557,D788,R645,U684,L255,D803,L374,U759,L693,D92,L256,U772,R591,D126,R57,U363,R347,U191,L760,U223,R591,D507,R232,U251,R471,D912,R227\n",
        "\n",
        "For example, if the first wire's path is R8,U5,L5,D3, then starting from the central port (o), it goes right 8, up 5, left 5, and finally down 3:\n",
        "\n",
        "...........\n",
        "...........\n",
        "...........\n",
        "....+----+.\n",
        "....|....|.\n",
        "....|....|.\n",
        "....|....|.\n",
        ".........|.\n",
        ".o-------+.\n",
        "...........\n",
        "Then, if the second wire's path is U7,R6,D4,L4, it goes up 7, right 6, down 4, and left 4:\n",
        "\n",
        "...........\n",
        ".+-----+...\n",
        ".|.....|...\n",
        ".|..+--X-+.\n",
        ".|..|..|.|.\n",
        ".|.-X--+.|.\n",
        ".|..|....|.\n",
        ".|.......|.\n",
        ".o-------+.\n",
        "...........\n",
        "These wires cross at two locations (marked X), but the lower-left one is closer to the central port: its distance is 3 + 3 = 6.\n",
        "\n",
        "Here are a few more examples:\n",
        "\n",
        "R75,D30,R83,U83,L12,D49,R71,U7,L72\n",
        "U62,R66,U55,R34,D71,R55,D58,R83 = distance 159\n",
        "R98,U47,R26,D63,R33,U87,L62,D20,R33,U53,R51\n",
        "U98,R91,D20,R16,D67,R40,U7,R15,U6,R7 = distance 135\n",
        "What is the Manhattan distance from the central port to the closest intersection?"
      ]
    },
    {
      "cell_type": "code",
      "metadata": {
        "id": "xVBjZlP8ftsK",
        "colab_type": "code",
        "outputId": "de1bc331-1441-445b-bba1-75163f64ee2a",
        "colab": {
          "base_uri": "https://localhost:8080/",
          "height": 88
        }
      },
      "source": [
        "\n",
        "def find_the_point(direction,x,y,pathset):\n",
        "  move = int(direction[1:(len(direction)+1)])\n",
        "  if direction[0] == 'R':\n",
        "    for xp in range(move):\n",
        "      pathset.add((x+xp+1,y))\n",
        "    return (x+move, y, pathset)\n",
        "  elif direction[0] == 'L':\n",
        "    for xp in range(move):\n",
        "      pathset.add((x-xp-1,y))\n",
        "    return (x-move, y, pathset)\n",
        "  elif direction[0] == 'U':\n",
        "    for yp in range(move):\n",
        "      pathset.add((x,y+yp+1))\n",
        "    return (x, y+move, pathset)\n",
        "  elif direction[0] == 'D':\n",
        "    for yp in range(move):\n",
        "      pathset.add((x,y-yp-1))\n",
        "    return (x,y-move, pathset)\n",
        "  else:\n",
        "    print('error')\n",
        "\n",
        "puzzle_input1 = 'R1005,U370,L335,D670,R236,D634,L914,U15,R292,D695,L345,D183,R655,U438,R203,U551,L540,U51,R834,D563,L882,D605,L832,U663,R899,D775,L740,U764,L810,U442,R379,D951,L821,D703,R526,D624,L100,D796,R375,U129,L957,D41,R361,D504,R358,D320,L392,D842,R509,D612,L92,U788,L361,D757,R428,U257,L663,U956,L748,U938,R588,D942,R819,D732,R562,D331,L164,U801,R872,U872,L909,U260,R899,D278,R822,U968,L937,D594,L786,D34,R102,D650,R920,D539,R925,U436,R347,U686,L596,D608,R730,U5,R462,U831,R277,U411,R730,D828,L169,D276,L669,U167,R55,D879,L329,U258,R585,D134,R977,D609,L126,U848,L601,U624,R577,D421,L880,D488,R505,U385,L103,D693,L110,D338,R809,D864,L80,U413,R412,D134,L519,D988,R83,U580,R593,U435,R843,D953,R11,D655,R569,D237,R987,U894,L445,U974,L746,U450,R99,U69,R84,U258,L248,D581,R215,U306,R480,U126,R275,D353,R493,D800,L386,D876,L957,D722,L967,D612,L716,D901,R394,U764,R274,D686,L746,D957,R747,U517,L575,D961,R842,D753,L345,D59,L215,U413,R610,D166,L646,U107,L926,D848,R445,U297,L376,U869,L345,D529,R620,D353,R682,D908,R378,D221,R64,D911,L245,D364,R123,D555,L928,U412,R771,D543,L97,D477,R500,D125,R578,U150,R291,D252,R948,D576,L838,D144,L289,D677,L307,U692,R802,D743,R57,U839,R896,D110,R34,D508,L595,U658,L769,U47,L292,U66,R217,D8,L835,D479,L71,D24,R429,U64,R305,D406,R23,U819,R478,D7,L561,D503,R349,U104,L749,D123,R548,D421,R336,D837,R464,D908,L94,U988,L137,D757,L42,U842,R260,D406,L31,U965,L178,U973,L29,U276,L887,U920,L133,U243,R537,U282,R194,D152,R693,D509,L771,D365,L319,D378,L61,D849,R379'\n",
        "puzzle_input2 = 'L998,U242,R333,U631,L507,U313,R286,U714,R709,U585,R393,D893,R404,D448,R882,U246,L190,U238,R672,D184,L275,D120,R352,D584,L626,U413,L288,D942,R770,D551,L926,D242,R568,U48,R108,D349,R750,D323,L529,D703,L672,U775,L700,D465,L528,D596,R990,U366,L747,D270,L723,D469,L548,D47,L873,D678,R782,D187,L397,U975,R967,D224,L295,D86,L159,U610,L767,U641,L885,D623,L160,D509,R517,D981,L376,D604,R251,D140,L938,D358,L984,U63,R513,D54,L718,U90,L343,D982,L575,D692,L508,D361,L297,D880,L46,D875,R40,D97,R819,U919,R319,U152,R161,U553,L388,D100,R481,U306,L201,U706,L173,D657,L632,D182,R477,D332,R678,D683,L983,D584,R941,U801,R485,D376,R218,D432,R780,D617,R560,D618,R466,U456,L952,D72,R339,U16,L543,U176,L423,D770,L714,U621,L850,U929,R132,D908,R993,U440,R539,U374,L945,D443,L326,D651,L269,U321,R925,D777,R431,U273,R811,D63,R683,D540,L3,D617,R359,U332,L736,D98,L859,D994,R131,U71,L156,D661,R879,D303,L581,U407,L166,U878,L831,D871,R953,D137,L903,U200,R34,D857,R448,D412,L311,D212,R527,D707,R641,D775,L987,D814,L38,D96,R647,U868,L98,U882,L838,D308,R840,U161,R83,U424,L420,U934,R353,D287,R559,D665,R695,D888,R859,U992,L283,D525,L449,U255,L889,D296,R72,D899,R316,D3,L308,D404,L356,D333,R645,U274,R336,U258,R599,U746,L142,U21,R301,D890,L290,D624,R565,U117,L927,U412,L687,U480,R674,U372,L382,D134,L372,D892,R307,U217,L20,D535,L876,D548,L19,U590,R906,D816,R465,U768,R882,U980,L557,D788,R645,U684,L255,D803,L374,U759,L693,D92,L256,U772,R591,D126,R57,U363,R347,U191,L760,U223,R591,D507,R232,U251,R471,D912,R227'\n",
        "#puzzle_input1 = 'R98,U47,R26,D63,R33,U87,L62,D20,R33,U53,R51'\n",
        "#puzzle_input2 = 'U98,R91,D20,R16,D67,R40,U7,R15,U6,R7'\n",
        "#puzzle_input1 = 'R75,D30,R83,U83,L12,D49,R71,U7,L72'\n",
        "#puzzle_input2 = 'U62,R66,U55,R34,D71,R55,D58,R83'\n",
        "#puzzle_input1 = 'R8,U5,L5,D3'\n",
        "#puzzle_input2 = 'U7,R6,D4,L4'\n",
        "puzzle_output1 = puzzle_input1.split(',')\n",
        "puzzle_output2 = puzzle_input2.split(',')\n",
        "\n",
        "x1=0\n",
        "y1=0\n",
        "x2=0\n",
        "y2=0\n",
        "pathset1 = {(0,0)}\n",
        "pathset2 = {(0,0)}\n",
        "\n",
        "for pos in range(len(puzzle_output1)):\n",
        "  x1,y1,pathset1 = find_the_point(puzzle_output1[pos],x1,y1,pathset1)\n",
        "\n",
        "for pos in range(len(puzzle_output2)):\n",
        "  x2,y2,pathset2 = find_the_point(puzzle_output2[pos],x2,y2,pathset2)\n",
        "\n",
        "answer_set = list((pathset1 & pathset2) - {(0,0)})\n",
        "print(answer_set)\n",
        "result = []\n",
        "min_result = -1\n",
        "if len(answer_set) > 0:\n",
        "  for i in range(len(answer_set)):\n",
        "    result.append(abs(answer_set[i][0])+abs(answer_set[i][1]))\n",
        "if result != []:\n",
        "  min_i = result.index(min(result))\n",
        "  min_x = (answer_set[min_i][0])\n",
        "  min_y = (answer_set[min_i][1])         \n",
        "  print(min_x,min_y)\n",
        "  print('the Manhattan distance is '+str(min(result)))\n",
        "else:\n",
        "  print('No result')\n"
      ],
      "execution_count": 118,
      "outputs": [
        {
          "output_type": "stream",
          "text": [
            "[(-1290, -3293), (-2472, -4421), (276, -1599), (209, -1599), (-1190, -2615), (-12, -2037), (231, -2037), (284, -1599), (-12, -1925), (-1716, -2205), (797, -1134), (-2472, -4281), (-1190, -2505), (1091, -1134), (276, -1829), (-1290, -3480), (516, -1320), (-12, -1614), (-12, -1797)]\n",
            "-12 -1614\n",
            "the Manhattan distance is 1626\n"
          ],
          "name": "stdout"
        }
      ]
    },
    {
      "cell_type": "markdown",
      "metadata": {
        "id": "L8ZeTT9m7pS6",
        "colab_type": "text"
      },
      "source": [
        "Day3 PartII:\n",
        "\n",
        "puzzle input: as the same as PartI\n",
        "\n",
        "```\n",
        "example:\n",
        "Here are the best steps for the extra examples from above:\n",
        "\n",
        "R75,D30,R83,U83,L12,D49,R71,U7,L72\n",
        "U62,R66,U55,R34,D71,R55,D58,R83\n",
        "= 610 steps\n",
        "\n",
        "R98,U47,R26,D63,R33,U87,L62,D20,R33,U53,R51\n",
        "U98,R91,D20,R16,D67,R40,U7,R15,U6,R7\n",
        "= 410 steps\n",
        "```\n",
        "\n",
        "\n",
        "\n"
      ]
    },
    {
      "cell_type": "code",
      "metadata": {
        "id": "45TkK5r879Ai",
        "colab_type": "code",
        "outputId": "2e5af22a-0e04-461f-b18d-5eef742310b4",
        "colab": {
          "base_uri": "https://localhost:8080/",
          "height": 34
        }
      },
      "source": [
        "def count_distance(direction,x,y,dx,dy,step,check):\n",
        "  move = int(direction[1:(len(direction)+1)])\n",
        "  \n",
        "  if direction[0] == 'R':\n",
        "    for xR in range(move):\n",
        "      x = x + 1\n",
        "      y = y\n",
        "      step = step + 1\n",
        "      if (x == dx and y == dy):\n",
        "        #print('The point is found.')\n",
        "        check = False\n",
        "        return (x, y, step,check)\n",
        "        break\n",
        "      else:\n",
        "        continue\n",
        "    return (x, y, step,check)\n",
        "  \n",
        "  elif direction[0] == 'L':\n",
        "    for xL in range(move):\n",
        "      x = x - 1\n",
        "      y = y\n",
        "      step = step + 1\n",
        "      if (x == dx and y == dy):\n",
        "        #print('The point is found.')\n",
        "        check = False\n",
        "        return (x, y, step,check)\n",
        "        break\n",
        "      else:\n",
        "        continue\n",
        "    return (x, y, step,check)\n",
        "  \n",
        "  elif direction[0] == 'U':\n",
        "    for yU in range(move):\n",
        "      x = x\n",
        "      y = y + 1\n",
        "      step = step + 1\n",
        "      if (x == dx and y == dy):\n",
        "        #print('The point is found.')\n",
        "        check = False\n",
        "        return (x, y, step,check)\n",
        "        break\n",
        "      else:\n",
        "        continue\n",
        "    return (x, y, step,check)\n",
        " \n",
        "  elif direction[0] == 'D':\n",
        "    for yD in range(move):\n",
        "      x = x\n",
        "      y = y - 1\n",
        "      step = step + 1\n",
        "      if (x == dx and y == dy):\n",
        "        #print('The point is found.')\n",
        "        check = False\n",
        "        return (x, y, step,check)\n",
        "        break\n",
        "      else:\n",
        "        continue\n",
        "    return (x, y, step,check)\n",
        "  \n",
        "  else:\n",
        "    print('error')\n",
        "    return (-1,-1,-1)\n",
        "\n",
        "fewest_step = []\n",
        "\n",
        "for i in range(len(answer_set)):\n",
        "  x1 = 0\n",
        "  y1 = 0\n",
        "  x2 = 0\n",
        "  y2 = 0\n",
        "  step1 = 0\n",
        "  step2 = 0\n",
        "  dx = answer_set[i][0]\n",
        "  dy = answer_set[i][1]\n",
        "  check1=True\n",
        "  check2=True\n",
        "  \n",
        "  for pos in range(len(puzzle_output1)):\n",
        "    if check1 == True:\n",
        "      x1,y1,step1,check1= count_distance(puzzle_output1[pos],x1,y1,dx,dy,step1,check1)\n",
        "    else:\n",
        "      break\n",
        "  for pos in range(len(puzzle_output2)):\n",
        "    if check2 == True:\n",
        "      x2,y2,step2,check2= count_distance(puzzle_output2[pos],x2,y2,dx,dy,step2,check2)\n",
        "    else:\n",
        "      break\n",
        "  fewest_step.append([step1+step2])\n",
        "\n",
        "print('The fewest step is ' + str(min(fewest_step)))"
      ],
      "execution_count": 119,
      "outputs": [
        {
          "output_type": "stream",
          "text": [
            "The fewest step is [27330]\n"
          ],
          "name": "stdout"
        }
      ]
    }
  ]
}